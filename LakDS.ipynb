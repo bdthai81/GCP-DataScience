{
  "nbformat": 4,
  "nbformat_minor": 0,
  "metadata": {
    "colab": {
      "name": "LakDS.ipynb",
      "version": "0.3.2",
      "provenance": [],
      "include_colab_link": true
    },
    "kernelspec": {
      "name": "python3",
      "display_name": "Python 3"
    }
  },
  "cells": [
    {
      "cell_type": "markdown",
      "metadata": {
        "id": "view-in-github",
        "colab_type": "text"
      },
      "source": [
        "<a href=\"https://colab.research.google.com/github/bdthai81/GCP-DataScience/blob/master/LakDS.ipynb\" target=\"_parent\"><img src=\"https://colab.research.google.com/assets/colab-badge.svg\" alt=\"Open In Colab\"/></a>"
      ]
    },
    {
      "cell_type": "code",
      "metadata": {
        "id": "GjxMJHe-ULHe",
        "colab_type": "code",
        "colab": {}
      },
      "source": [
        ""
      ],
      "execution_count": 0,
      "outputs": []
    },
    {
      "cell_type": "markdown",
      "metadata": {
        "id": "4_B1igqkU_ar",
        "colab_type": "text"
      },
      "source": [
        "# Initialize Environment"
      ]
    },
    {
      "cell_type": "markdown",
      "metadata": {
        "id": "Tm09TGq_WcIF",
        "colab_type": "text"
      },
      "source": [
        "*   GCP Auth\n",
        "*   CoLab local varibales: PROJECT_ID, BUCKET\n",
        "\n"
      ]
    },
    {
      "cell_type": "code",
      "metadata": {
        "id": "Z4stNncpVI0x",
        "colab_type": "code",
        "colab": {
          "base_uri": "https://localhost:8080/",
          "height": 938
        },
        "outputId": "5d5516cd-2880-4b88-b597-fbb5591abb9f"
      },
      "source": [
        "# Authorize usage into GCP\n",
        "!gcloud init --skip-diagnostics"
      ],
      "execution_count": 1,
      "outputs": [
        {
          "output_type": "stream",
          "text": [
            "Welcome! This command will take you through the configuration of gcloud.\n",
            "\n",
            "Settings from your current configuration [default] are:\n",
            "component_manager:\n",
            "  disable_update_check: 'True'\n",
            "\n",
            "Pick configuration to use:\n",
            " [1] Re-initialize this configuration [default] with new settings \n",
            " [2] Create a new configuration\n",
            "Please enter your numeric choice:  1\n",
            "\n",
            "Your current configuration has been set to: [default]\n",
            "\n",
            "You must log in to continue. Would you like to log in (Y/n)?  y\n",
            "\n",
            "Go to the following link in your browser:\n",
            "\n",
            "    https://accounts.google.com/o/oauth2/auth?redirect_uri=urn%3Aietf%3Awg%3Aoauth%3A2.0%3Aoob&prompt=select_account&response_type=code&client_id=32555940559.apps.googleusercontent.com&scope=https%3A%2F%2Fwww.googleapis.com%2Fauth%2Fuserinfo.email+https%3A%2F%2Fwww.googleapis.com%2Fauth%2Fcloud-platform+https%3A%2F%2Fwww.googleapis.com%2Fauth%2Fappengine.admin+https%3A%2F%2Fwww.googleapis.com%2Fauth%2Fcompute+https%3A%2F%2Fwww.googleapis.com%2Fauth%2Faccounts.reauth&access_type=offline\n",
            "\n",
            "\n",
            "Enter verification code: 4/jwG-da7fs1DnunoXa07f7aN96EW_vc5R96xiv6lquUlD0cGX3ZsM-9U\n",
            "\n",
            "\n",
            "To take a quick anonymous survey, run:\n",
            "  $ gcloud alpha survey\n",
            "\n",
            "You are logged in as: [bdthai81@gmail.com].\n",
            "\n",
            "Pick cloud project to use: \n",
            " [1] bdthai81-lakdsgcp\n",
            " [2] my-project-1545359609401\n",
            " [3] projectexamshelf\n",
            " [4] Create a new project\n",
            "Please enter numeric choice or text value (must exactly match list \n",
            "item):  1\n",
            "\n",
            "Your current project has been set to: [bdthai81-lakdsgcp].\n",
            "\n",
            "Do you want to configure a default Compute Region and Zone? (Y/n)?  n\n",
            "\n",
            "Your Google Cloud SDK is configured and ready to use!\n",
            "\n",
            "* Commands that require authentication will use bdthai81@gmail.com by default\n",
            "* Commands will reference project `bdthai81-lakdsgcp` by default\n",
            "Run `gcloud help config` to learn how to change individual settings\n",
            "\n",
            "This gcloud configuration is called [default]. You can create additional configurations if you work with multiple accounts and/or projects.\n",
            "Run `gcloud topic configurations` to learn more.\n",
            "\n",
            "Some things to try next:\n",
            "\n",
            "* Run `gcloud --help` to see the Cloud Platform services you can interact with. And run `gcloud help COMMAND` to get help on any gcloud command.\n",
            "* Run `gcloud topic --help` to learn about advanced features of the SDK like arg files and output formatting\n"
          ],
          "name": "stdout"
        }
      ]
    },
    {
      "cell_type": "code",
      "metadata": {
        "id": "JpiozAPJVJbc",
        "colab_type": "code",
        "colab": {
          "base_uri": "https://localhost:8080/",
          "height": 34
        },
        "outputId": "669cd96c-e9f0-4e27-ee9c-0ef9d930751d"
      },
      "source": [
        "# Set Project_ID & BUCKET name locally within Notebook from GCP project name\n",
        "PROJECT_ID = !(gcloud info --format='value(config.project)')\n",
        "BUCKET = PROJECT_ID = PROJECT_ID[0]\n",
        "print(PROJECT_ID,BUCKET)"
      ],
      "execution_count": 2,
      "outputs": [
        {
          "output_type": "stream",
          "text": [
            "bdthai81-lakdsgcp bdthai81-lakdsgcp\n"
          ],
          "name": "stdout"
        }
      ]
    },
    {
      "cell_type": "code",
      "metadata": {
        "id": "yOLPqDkGuenD",
        "colab_type": "code",
        "colab": {
          "base_uri": "https://localhost:8080/",
          "height": 119
        },
        "outputId": "734d6417-554f-4110-98b4-74089f053ae1"
      },
      "source": [
        "# Clone own github repository into local drive to save progress\n",
        "!git clone https://github.com/bdthai81/GCP-DataScience.git"
      ],
      "execution_count": 3,
      "outputs": [
        {
          "output_type": "stream",
          "text": [
            "Cloning into 'GCP-DataScience'...\n",
            "remote: Enumerating objects: 6, done.\u001b[K\n",
            "remote: Counting objects: 100% (6/6), done.\u001b[K\n",
            "remote: Compressing objects: 100% (4/4), done.\u001b[K\n",
            "remote: Total 6 (delta 0), reused 0 (delta 0), pack-reused 0\u001b[K\n",
            "Unpacking objects: 100% (6/6), done.\n"
          ],
          "name": "stdout"
        }
      ]
    },
    {
      "cell_type": "code",
      "metadata": {
        "id": "QTF8CzsR158l",
        "colab_type": "code",
        "colab": {
          "base_uri": "https://localhost:8080/",
          "height": 68
        },
        "outputId": "927c8f0a-5a0b-4d45-85be-e3145f8937fa"
      },
      "source": [
        "# peek at directory\n",
        "!ls -l"
      ],
      "execution_count": 4,
      "outputs": [
        {
          "output_type": "stream",
          "text": [
            "total 8\n",
            "drwxr-xr-x 3 root root 4096 Jul 24 21:16 GCP-DataScience\n",
            "drwxr-xr-x 1 root root 4096 Jul 19 16:14 sample_data\n"
          ],
          "name": "stdout"
        }
      ]
    },
    {
      "cell_type": "markdown",
      "metadata": {
        "id": "QCanV3t1UZSl",
        "colab_type": "text"
      },
      "source": [
        "# Chapter 1: Make better decisions base on data"
      ]
    },
    {
      "cell_type": "markdown",
      "metadata": {
        "id": "r0oRGdvyUdpA",
        "colab_type": "text"
      },
      "source": [
        "* Create Google Cloud Storage Bucket"
      ]
    },
    {
      "cell_type": "code",
      "metadata": {
        "id": "4rd0aE_GUa3g",
        "colab_type": "code",
        "colab": {}
      },
      "source": [
        "# Create Bucket in GCS using PROJECT_ID/BUCKET\n",
        "!gsutil mb -c regional -l us-west1 gs://{BUCKET}"
      ],
      "execution_count": 0,
      "outputs": []
    },
    {
      "cell_type": "markdown",
      "metadata": {
        "id": "ClSyW95BWNmb",
        "colab_type": "text"
      },
      "source": [
        "# Chapter 2: Ingest Data into the Cloud\n"
      ]
    },
    {
      "cell_type": "markdown",
      "metadata": {
        "id": "ea17CrN7WVBy",
        "colab_type": "text"
      },
      "source": [
        "* Clone git hub\n",
        "* Download files from BTS Website into /data-science-on-gcp/data"
      ]
    },
    {
      "cell_type": "code",
      "metadata": {
        "id": "v4BscUEqWOi3",
        "colab_type": "code",
        "colab": {
          "base_uri": "https://localhost:8080/",
          "height": 136
        },
        "outputId": "cb3dd555-2aa6-4029-b2bd-abe6628e297d"
      },
      "source": [
        "# Clone github into local drive\n",
        "!git clone https://github.com/GoogleCloudPlatform/data-science-on-gcp"
      ],
      "execution_count": 5,
      "outputs": [
        {
          "output_type": "stream",
          "text": [
            "Cloning into 'data-science-on-gcp'...\n",
            "remote: Enumerating objects: 51, done.\u001b[K\n",
            "remote: Counting objects: 100% (51/51), done.\u001b[K\n",
            "remote: Compressing objects: 100% (39/39), done.\u001b[K\n",
            "remote: Total 2293 (delta 21), reused 33 (delta 12), pack-reused 2242\u001b[K\n",
            "Receiving objects: 100% (2293/2293), 4.11 MiB | 18.61 MiB/s, done.\n",
            "Resolving deltas: 100% (1076/1076), done.\n"
          ],
          "name": "stdout"
        }
      ]
    },
    {
      "cell_type": "code",
      "metadata": {
        "id": "roMyIwqg2AtQ",
        "colab_type": "code",
        "colab": {
          "base_uri": "https://localhost:8080/",
          "height": 85
        },
        "outputId": "f80ee7e9-b6d6-47cf-e3fb-9b9175486948"
      },
      "source": [
        "# peek at directories\n",
        "!ls -l"
      ],
      "execution_count": 6,
      "outputs": [
        {
          "output_type": "stream",
          "text": [
            "total 12\n",
            "drwxr-xr-x 13 root root 4096 Jul 24 21:16 data-science-on-gcp\n",
            "drwxr-xr-x  3 root root 4096 Jul 24 21:16 GCP-DataScience\n",
            "drwxr-xr-x  1 root root 4096 Jul 19 16:14 sample_data\n"
          ],
          "name": "stdout"
        }
      ]
    },
    {
      "cell_type": "code",
      "metadata": {
        "id": "Y2WlezyJvoWt",
        "colab_type": "code",
        "colab": {
          "base_uri": "https://localhost:8080/",
          "height": 343
        },
        "outputId": "c9832e66-c46b-4f49-a7e5-2820519e5b24"
      },
      "source": [
        "# Peek at download.sh code\n",
        "!cat data-science-on-gcp/02_ingest/download.sh"
      ],
      "execution_count": 7,
      "outputs": [
        {
          "output_type": "stream",
          "text": [
            "#!/bin/bash\n",
            "\n",
            "export YEAR=${YEAR:=2015}\n",
            "echo \"Downloading YEAR=$YEAR...\"\n",
            "\n",
            "for MONTH in `seq -w 1 12`; do\n",
            "\n",
            "echo $YEAR$MONTH\n",
            "\n",
            "PARAMS=\"UserTableName=On_Time_Performance&DBShortName=&RawDataTable=T_ONTIME&sqlstr=+SELECT+FL_DATE%2CUNIQUE_CARRIER%2CAIRLINE_ID%2CCARRIER%2CFL_NUM%2CORIGIN_AIRPORT_ID%2CORIGIN_AIRPORT_SEQ_ID%2CORIGIN_CITY_MARKET_ID%2CORIGIN%2CDEST_AIRPORT_ID%2CDEST_AIRPORT_SEQ_ID%2CDEST_CITY_MARKET_ID%2CDEST%2CCRS_DEP_TIME%2CDEP_TIME%2CDEP_DELAY%2CTAXI_OUT%2CWHEELS_OFF%2CWHEELS_ON%2CTAXI_IN%2CCRS_ARR_TIME%2CARR_TIME%2CARR_DELAY%2CCANCELLED%2CCANCELLATION_CODE%2CDIVERTED%2CDISTANCE+FROM++T_ONTIME+WHERE+Month+%3D${MONTH}+AND+YEAR%3D${YEAR}&varlist=FL_DATE%2CUNIQUE_CARRIER%2CAIRLINE_ID%2CCARRIER%2CFL_NUM%2CORIGIN_AIRPORT_ID%2CORIGIN_AIRPORT_SEQ_ID%2CORIGIN_CITY_MARKET_ID%2CORIGIN%2CDEST_AIRPORT_ID%2CDEST_AIRPORT_SEQ_ID%2CDEST_CITY_MARKET_ID%2CDEST%2CCRS_DEP_TIME%2CDEP_TIME%2CDEP_DELAY%2CTAXI_OUT%2CWHEELS_OFF%2CWHEELS_ON%2CTAXI_IN%2CCRS_ARR_TIME%2CARR_TIME%2CARR_DELAY%2CCANCELLED%2CCANCELLATION_CODE%2CDIVERTED%2CDISTANCE&grouplist=&suml=&sumRegion=&filter1=title%3D&filter2=title%3D&geo=All%A0&time=March&timename=Month&GEOGRAPHY=All&XYEAR=${YEAR}&FREQUENCY=3&VarDesc=Year&VarType=Num&VarDesc=Quarter&VarType=Num&VarDesc=Month&VarType=Num&VarDesc=DayofMonth&VarType=Num&VarDesc=DayOfWeek&VarType=Num&VarName=FL_DATE&VarDesc=FlightDate&VarType=Char&VarName=UNIQUE_CARRIER&VarDesc=UniqueCarrier&VarType=Char&VarName=AIRLINE_ID&VarDesc=AirlineID&VarType=Num&VarName=CARRIER&VarDesc=Carrier&VarType=Char&VarDesc=TailNum&VarType=Char&VarName=FL_NUM&VarDesc=FlightNum&VarType=Char&VarName=ORIGIN_AIRPORT_ID&VarDesc=OriginAirportID&VarType=Num&VarName=ORIGIN_AIRPORT_SEQ_ID&VarDesc=OriginAirportSeqID&VarType=Num&VarName=ORIGIN_CITY_MARKET_ID&VarDesc=OriginCityMarketID&VarType=Num&VarName=ORIGIN&VarDesc=Origin&VarType=Char&VarDesc=OriginCityName&VarType=Char&VarDesc=OriginState&VarType=Char&VarDesc=OriginStateFips&VarType=Char&VarDesc=OriginStateName&VarType=Char&VarDesc=OriginWac&VarType=Num&VarName=DEST_AIRPORT_ID&VarDesc=DestAirportID&VarType=Num&VarName=DEST_AIRPORT_SEQ_ID&VarDesc=DestAirportSeqID&VarType=Num&VarName=DEST_CITY_MARKET_ID&VarDesc=DestCityMarketID&VarType=Num&VarName=DEST&VarDesc=Dest&VarType=Char&VarDesc=DestCityName&VarType=Char&VarDesc=DestState&VarType=Char&VarDesc=DestStateFips&VarType=Char&VarDesc=DestStateName&VarType=Char&VarDesc=DestWac&VarType=Num&VarName=CRS_DEP_TIME&VarDesc=CRSDepTime&VarType=Char&VarName=DEP_TIME&VarDesc=DepTime&VarType=Char&VarName=DEP_DELAY&VarDesc=DepDelay&VarType=Num&VarDesc=DepDelayMinutes&VarType=Num&VarDesc=DepDel15&VarType=Num&VarDesc=DepartureDelayGroups&VarType=Num&VarDesc=DepTimeBlk&VarType=Char&VarName=TAXI_OUT&VarDesc=TaxiOut&VarType=Num&VarName=WHEELS_OFF&VarDesc=WheelsOff&VarType=Char&VarName=WHEELS_ON&VarDesc=WheelsOn&VarType=Char&VarName=TAXI_IN&VarDesc=TaxiIn&VarType=Num&VarName=CRS_ARR_TIME&VarDesc=CRSArrTime&VarType=Char&VarName=ARR_TIME&VarDesc=ArrTime&VarType=Char&VarName=ARR_DELAY&VarDesc=ArrDelay&VarType=Num&VarDesc=ArrDelayMinutes&VarType=Num&VarDesc=ArrDel15&VarType=Num&VarDesc=ArrivalDelayGroups&VarType=Num&VarDesc=ArrTimeBlk&VarType=Char&VarName=CANCELLED&VarDesc=Cancelled&VarType=Num&VarName=CANCELLATION_CODE&VarDesc=CancellationCode&VarType=Char&VarName=DIVERTED&VarDesc=Diverted&VarType=Num&VarDesc=CRSElapsedTime&VarType=Num&VarDesc=ActualElapsedTime&VarType=Num&VarDesc=AirTime&VarType=Num&VarDesc=Flights&VarType=Num&VarName=DISTANCE&VarDesc=Distance&VarType=Num&VarDesc=DistanceGroup&VarType=Num&VarDesc=CarrierDelay&VarType=Num&VarDesc=WeatherDelay&VarType=Num&VarDesc=NASDelay&VarType=Num&VarDesc=SecurityDelay&VarType=Num&VarDesc=LateAircraftDelay&VarType=Num&VarDesc=FirstDepTime&VarType=Char&VarDesc=TotalAddGTime&VarType=Num&VarDesc=LongestAddGTime&VarType=Num&VarDesc=DivAirportLandings&VarType=Num&VarDesc=DivReachedDest&VarType=Num&VarDesc=DivActualElapsedTime&VarType=Num&VarDesc=DivArrDelay&VarType=Num&VarDesc=DivDistance&VarType=Num&VarDesc=Div1Airport&VarType=Char&VarDesc=Div1AirportID&VarType=Num&VarDesc=Div1AirportSeqID&VarType=Num&VarDesc=Div1WheelsOn&VarType=Char&VarDesc=Div1TotalGTime&VarType=Num&VarDesc=Div1LongestGTime&VarType=Num&VarDesc=Div1WheelsOff&VarType=Char&VarDesc=Div1TailNum&VarType=Char&VarDesc=Div2Airport&VarType=Char&VarDesc=Div2AirportID&VarType=Num&VarDesc=Div2AirportSeqID&VarType=Num&VarDesc=Div2WheelsOn&VarType=Char&VarDesc=Div2TotalGTime&VarType=Num&VarDesc=Div2LongestGTime&VarType=Num&VarDesc=Div2WheelsOff&VarType=Char&VarDesc=Div2TailNum&VarType=Char&VarDesc=Div3Airport&VarType=Char&VarDesc=Div3AirportID&VarType=Num&VarDesc=Div3AirportSeqID&VarType=Num&VarDesc=Div3WheelsOn&VarType=Char&VarDesc=Div3TotalGTime&VarType=Num&VarDesc=Div3LongestGTime&VarType=Num&VarDesc=Div3WheelsOff&VarType=Char&VarDesc=Div3TailNum&VarType=Char&VarDesc=Div4Airport&VarType=Char&VarDesc=Div4AirportID&VarType=Num&VarDesc=Div4AirportSeqID&VarType=Num&VarDesc=Div4WheelsOn&VarType=Char&VarDesc=Div4TotalGTime&VarType=Num&VarDesc=Div4LongestGTime&VarType=Num&VarDesc=Div4WheelsOff&VarType=Char&VarDesc=Div4TailNum&VarType=Char&VarDesc=Div5Airport&VarType=Char&VarDesc=Div5AirportID&VarType=Num&VarDesc=Div5AirportSeqID&VarType=Num&VarDesc=Div5WheelsOn&VarType=Char&VarDesc=Div5TotalGTime&VarType=Num&VarDesc=Div5LongestGTime&VarType=Num&VarDesc=Div5WheelsOff&VarType=Char&VarDesc=Div5TailNum&VarType=Char\"\n",
            "\n",
            "RESPONSE=$(curl -X POST --data \"$PARAMS\" https://www.transtats.bts.gov/DownLoad_Table.asp?Table_ID=236&Has_Group=3&Is_Zipped=0)\n",
            "echo \"Received $RESPONSE\"\n",
            "ZIPFILE=$(echo $RESPONSE | tr '\\\"' '\\n' | grep zip)\n",
            "echo $ZIPFILE\n",
            "curl -o $YEAR$MONTH.zip $ZIPFILE\n",
            "\n",
            "done\n"
          ],
          "name": "stdout"
        }
      ]
    },
    {
      "cell_type": "code",
      "metadata": {
        "id": "NtNYva8CXUBn",
        "colab_type": "code",
        "colab": {}
      },
      "source": [
        "%%bash\n",
        "# change directory into data-science-on-gcp\n",
        "cd data-science-on-gcp\n",
        "# make directory data\n",
        "mkdir data\n",
        "# change directory into data\n",
        "cd data\n",
        "# Run the code to download the files from the BTS website\n",
        "bash ../02_ingest/download.sh\n",
        "# Peek downloads\n",
        "ls -lrt"
      ],
      "execution_count": 0,
      "outputs": []
    },
    {
      "cell_type": "code",
      "metadata": {
        "id": "iigOSLcDvsp8",
        "colab_type": "code",
        "colab": {}
      },
      "source": [
        ""
      ],
      "execution_count": 0,
      "outputs": []
    },
    {
      "cell_type": "markdown",
      "metadata": {
        "id": "R5_9UnQUvzaE",
        "colab_type": "text"
      },
      "source": [
        "# Chapter 4 Streaming Data: Publication and Ingest"
      ]
    },
    {
      "cell_type": "markdown",
      "metadata": {
        "id": "dqHQ571dv5uX",
        "colab_type": "text"
      },
      "source": [
        "## If you didn't go through Chapter 2,  copy files to GCS bucket\n"
      ]
    },
    {
      "cell_type": "code",
      "metadata": {
        "id": "NShHdY8Vv3I6",
        "colab_type": "code",
        "colab": {}
      },
      "source": [
        "# Copy ingest files into GCS bucket\n",
        "# Go to the 02_ingest folder of the repo\n",
        "%cd ~/../content/data-science-on-gcp/02_ingest/\n",
        "# Run the program ./ingest_from_crsbucket.sh and specify your bucket name.\n",
        "sed_str = 's/destination-bucket-name/' + BUCKET + '/g'\n",
        "!sed -i '{sed_str}' ./ingest_from_crsbucket.sh\n",
        "!./ingest_from_crsbucket.sh {BUCKET}"
      ],
      "execution_count": 0,
      "outputs": []
    },
    {
      "cell_type": "code",
      "metadata": {
        "id": "9pgGhavgzuYT",
        "colab_type": "code",
        "colab": {}
      },
      "source": [
        "# Copy /content/data-science-on-gcp/04_streaming/simulate/airports.csv.gz to own github \n",
        "!mkdir -p GCP-DataScience/04_streaming/simulate/\n",
        "!cp /content/data-science-on-gcp/04_streaming/simulate/airports.csv.gz /content/GCP-DataScience/04_streaming/simulate/airports.csv.gz"
      ],
      "execution_count": 0,
      "outputs": []
    },
    {
      "cell_type": "code",
      "metadata": {
        "id": "tVUb7jVg3Nok",
        "colab_type": "code",
        "colab": {
          "base_uri": "https://localhost:8080/",
          "height": 85
        },
        "outputId": "1b4664f8-4e01-41d6-c5bb-3abaf04c3c00"
      },
      "source": [
        "# Commit & Push into own github\n",
        "%cd GCP-DataScience\n",
        "!git pull origin master"
      ],
      "execution_count": 19,
      "outputs": [
        {
          "output_type": "stream",
          "text": [
            "/content/GCP-DataScience\n",
            "From https://github.com/bdthai81/GCP-DataScience\n",
            " * branch            master     -> FETCH_HEAD\n",
            "Already up to date.\n"
          ],
          "name": "stdout"
        }
      ]
    },
    {
      "cell_type": "code",
      "metadata": {
        "id": "7-C-Y7Fn7HUP",
        "colab_type": "code",
        "colab": {
          "base_uri": "https://localhost:8080/",
          "height": 119
        },
        "outputId": "99114c8e-9e7c-406f-9bf3-8b0ed3a52f4f"
      },
      "source": [
        "%%bash\n",
        "git init\n",
        "git config --global user.email \"bdthai81@gmail.com\"\n",
        "git config --global user.name \"bdthai81\"\n",
        "git add .\n",
        "git commit -m \"add airports.csv.gz file\""
      ],
      "execution_count": 38,
      "outputs": [
        {
          "output_type": "stream",
          "text": [
            "Reinitialized existing Git repository in /content/GCP-DataScience/.git/\n",
            "On branch master\n",
            "Your branch is ahead of 'origin/master' by 1 commit.\n",
            "  (use \"git push\" to publish your local commits)\n",
            "\n",
            "nothing to commit, working tree clean\n"
          ],
          "name": "stdout"
        }
      ]
    },
    {
      "cell_type": "code",
      "metadata": {
        "id": "77DaMCpXA9JL",
        "colab_type": "code",
        "colab": {}
      },
      "source": [
        "!git remote rm origin"
      ],
      "execution_count": 0,
      "outputs": []
    },
    {
      "cell_type": "code",
      "metadata": {
        "id": "3AXE02rm602Q",
        "colab_type": "code",
        "colab": {
          "base_uri": "https://localhost:8080/",
          "height": 51
        },
        "outputId": "5147909d-a538-4dde-d323-a837e630b129"
      },
      "source": [
        "!git remote add origin https://bdthai81:@github.com/bdthai81/GCP-DataScience.git\n",
        "!git push origin master"
      ],
      "execution_count": 45,
      "outputs": [
        {
          "output_type": "stream",
          "text": [
            "remote: Invalid username or password.\n",
            "fatal: Authentication failed for 'https://bdthai81:@github.com/bdthai81/GCP-DataScience.git/'\n"
          ],
          "name": "stdout"
        }
      ]
    },
    {
      "cell_type": "code",
      "metadata": {
        "id": "TmcX1Vga65NB",
        "colab_type": "code",
        "colab": {
          "base_uri": "https://localhost:8080/",
          "height": 34
        },
        "outputId": "70cae0ff-8583-4127-9f63-0ce9a43d9a08"
      },
      "source": [
        ""
      ],
      "execution_count": 27,
      "outputs": [
        {
          "output_type": "stream",
          "text": [
            "fatal: could not read Username for 'https://github.com': No such device or address\n"
          ],
          "name": "stdout"
        }
      ]
    },
    {
      "cell_type": "markdown",
      "metadata": {
        "id": "5Yu3iLqcwgsD",
        "colab_type": "text"
      },
      "source": [
        "## Install modules into Notebook\n",
        "* apache-beam[gcp]\n",
        "* timezonefinder"
      ]
    },
    {
      "cell_type": "code",
      "metadata": {
        "id": "guy2KkH-wvUp",
        "colab_type": "code",
        "colab": {}
      },
      "source": [
        "# Install module timezonefinder\n",
        "!pip install apache-beam[gcp], timezonefinder"
      ],
      "execution_count": 0,
      "outputs": []
    },
    {
      "cell_type": "markdown",
      "metadata": {
        "id": "EkkhD-2oxnyb",
        "colab_type": "text"
      },
      "source": [
        "## df01"
      ]
    },
    {
      "cell_type": "code",
      "metadata": {
        "id": "KHsnoTWWxrlO",
        "colab_type": "code",
        "colab": {}
      },
      "source": [
        "# data-science-on-gcp/04_streaming/simulate/df01.py\n",
        "#!/usr/bin/env python\n",
        "\n",
        "# Copyright 2016 Google Inc.\n",
        "#\n",
        "# Licensed under the Apache License, Version 2.0 (the \"License\");\n",
        "# you may not use this file except in compliance with the License.\n",
        "# You may obtain a copy of the License at\n",
        "#\n",
        "#     http://www.apache.org/licenses/LICENSE-2.0\n",
        "#\n",
        "# Unless required by applicable law or agreed to in writing, software\n",
        "# distributed under the License is distributed on an \"AS IS\" BASIS,\n",
        "# WITHOUT WARRANTIES OR CONDITIONS OF ANY KIND, either express or implied.\n",
        "# See the License for the specific language governing permissions and\n",
        "# limitations under the License.\n",
        "\n",
        "import apache_beam as beam\n",
        "import csv\n",
        "if __name__ == '__main__':\n",
        "    with beam.Pipeline('DirectRunner') as pipeline:\n",
        "        airports = (pipeline\n",
        "            | beam.io.ReadFromText('/content/data-science-on-gcp/04_streaming/simulate/airports.csv.gz')\n",
        "            | beam.Map(lambda line: next(csv.reader([line])))\n",
        "            | beam.Map(lambda fields: (fields[0], (fields[21], fields[26])))\n",
        "        )\n",
        "        \n",
        "        airports | beam.Map(lambda airport: '{},{}'.format(airport[0], ','.join(airport[1]))) \\\n",
        "                 | beam.io.textio.WriteToText('extracted_airports')\n",
        "\n",
        "        pipeline.run()\n",
        "\n",
        "!ls -l\n",
        "!head {\"extracted_airports-00000-of-00001\"}"
      ],
      "execution_count": 0,
      "outputs": []
    }
  ]
}